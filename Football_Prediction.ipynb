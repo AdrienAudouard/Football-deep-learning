{
  "nbformat": 4,
  "nbformat_minor": 0,
  "metadata": {
    "colab": {
      "name": "Football Prediction.ipynb",
      "provenance": [],
      "collapsed_sections": [],
      "toc_visible": true
    },
    "kernelspec": {
      "name": "python3",
      "display_name": "Python 3"
    }
  },
  "cells": [
    {
      "cell_type": "markdown",
      "metadata": {
        "id": "oI0Qv2Z_VdpA"
      },
      "source": [
        "## Import des librairies\n"
      ]
    },
    {
      "cell_type": "code",
      "metadata": {
        "id": "oe2SjipHWkOf",
        "outputId": "021d8efc-b556-4513-bc5f-221181193978",
        "colab": {
          "base_uri": "https://localhost:8080/",
          "height": 224
        }
      },
      "source": [
        "import numpy as np\n",
        "import pandas as pd\n",
        "import tensorflow as tf\n",
        "!pip install category_encoders"
      ],
      "execution_count": 21,
      "outputs": [
        {
          "output_type": "stream",
          "text": [
            "Requirement already satisfied: category_encoders in /usr/local/lib/python3.6/dist-packages (2.2.2)\n",
            "Requirement already satisfied: scipy>=1.0.0 in /usr/local/lib/python3.6/dist-packages (from category_encoders) (1.4.1)\n",
            "Requirement already satisfied: scikit-learn>=0.20.0 in /usr/local/lib/python3.6/dist-packages (from category_encoders) (0.22.2.post1)\n",
            "Requirement already satisfied: pandas>=0.21.1 in /usr/local/lib/python3.6/dist-packages (from category_encoders) (1.1.2)\n",
            "Requirement already satisfied: patsy>=0.5.1 in /usr/local/lib/python3.6/dist-packages (from category_encoders) (0.5.1)\n",
            "Requirement already satisfied: numpy>=1.14.0 in /usr/local/lib/python3.6/dist-packages (from category_encoders) (1.18.5)\n",
            "Requirement already satisfied: statsmodels>=0.9.0 in /usr/local/lib/python3.6/dist-packages (from category_encoders) (0.10.2)\n",
            "Requirement already satisfied: joblib>=0.11 in /usr/local/lib/python3.6/dist-packages (from scikit-learn>=0.20.0->category_encoders) (0.16.0)\n",
            "Requirement already satisfied: python-dateutil>=2.7.3 in /usr/local/lib/python3.6/dist-packages (from pandas>=0.21.1->category_encoders) (2.8.1)\n",
            "Requirement already satisfied: pytz>=2017.2 in /usr/local/lib/python3.6/dist-packages (from pandas>=0.21.1->category_encoders) (2018.9)\n",
            "Requirement already satisfied: six in /usr/local/lib/python3.6/dist-packages (from patsy>=0.5.1->category_encoders) (1.15.0)\n"
          ],
          "name": "stdout"
        }
      ]
    },
    {
      "cell_type": "code",
      "metadata": {
        "id": "Qss_eo9VWnol",
        "outputId": "11422b22-3879-4598-b252-5f7b176468f5",
        "colab": {
          "base_uri": "https://localhost:8080/",
          "height": 35
        }
      },
      "source": [
        "tf.__version__"
      ],
      "execution_count": 22,
      "outputs": [
        {
          "output_type": "execute_result",
          "data": {
            "application/vnd.google.colaboratory.intrinsic+json": {
              "type": "string"
            },
            "text/plain": [
              "'2.3.0'"
            ]
          },
          "metadata": {
            "tags": []
          },
          "execution_count": 22
        }
      ]
    },
    {
      "cell_type": "markdown",
      "metadata": {
        "id": "p5j4gv44WrDL"
      },
      "source": [
        "# Importing Dataset"
      ]
    },
    {
      "cell_type": "code",
      "metadata": {
        "id": "wCKGHFE9WtrD"
      },
      "source": [
        "dataset = pd.read_csv('export.csv')\n",
        "x = dataset.iloc[:, [True, True, True, True, False, False, True, True, True, True, True, True, True, True, True, True, True, True, True, True, True, True, True, True, True, True, True, True, True, True, True, True]].values # Toutes les colonnes à partir de l'index 3 jusqu'à l'avant dernière \n",
        "y = dataset.iloc[:, 5].values # Uniquement la dernière colonne du dataset (expected)"
      ],
      "execution_count": 23,
      "outputs": []
    },
    {
      "cell_type": "code",
      "metadata": {
        "id": "UDPsrpAzXuRt",
        "outputId": "cccb283c-0f93-453b-c55f-795bbd99846d",
        "colab": {
          "base_uri": "https://localhost:8080/",
          "height": 51
        }
      },
      "source": [
        "print(x[0])"
      ],
      "execution_count": 24,
      "outputs": [
        {
          "output_type": "stream",
          "text": [
            "['Guingamp' 'Monaco' 'French Ligue 1' '2016/17' 1 1 0 0 0 0 0 0 0 0 0 0 3\n",
            " 2 2 0 0 0 0 0 0 0 0 0 0 3]\n"
          ],
          "name": "stdout"
        }
      ]
    },
    {
      "cell_type": "code",
      "metadata": {
        "id": "sNzT1w4iXvO9",
        "outputId": "b725a253-8c72-4df0-b535-63edc91ac6dd",
        "colab": {
          "base_uri": "https://localhost:8080/",
          "height": 34
        }
      },
      "source": [
        "print(y)"
      ],
      "execution_count": 25,
      "outputs": [
        {
          "output_type": "stream",
          "text": [
            "['HOME' 'HOME' 'AWAY' ... 'AWAY' 'HOME' 'HOME']\n"
          ],
          "name": "stdout"
        }
      ]
    },
    {
      "cell_type": "markdown",
      "metadata": {
        "id": "XXya-mbpZKpW"
      },
      "source": [
        "# Encoding Data"
      ]
    },
    {
      "cell_type": "code",
      "metadata": {
        "id": "Dj6We4WBZM9A",
        "outputId": "74f46059-30af-4d39-e2f7-d360f6c3b4bc",
        "colab": {
          "base_uri": "https://localhost:8080/",
          "height": 105
        }
      },
      "source": [
        "from sklearn.preprocessing import OneHotEncoder\n",
        "from sklearn.compose import ColumnTransformer\n",
        "import category_encoders as ce\n",
        "\n",
        "ct = ColumnTransformer(transformers=[('encoder', ce.BinaryEncoder(), [0, 1, 2, 3])], remainder='passthrough')\n",
        "cty = ColumnTransformer(transformers=[('encoder', ce.BinaryEncoder(), [0])], remainder='passthrough')\n",
        "\n",
        "x = np.array(ct.fit_transform(x))\n",
        "\n",
        "y=y.reshape(-1,1)\n",
        "\n",
        "y = np.array(cty.fit_transform(y))\n"
      ],
      "execution_count": 26,
      "outputs": [
        {
          "output_type": "stream",
          "text": [
            "/usr/local/lib/python3.6/dist-packages/category_encoders/utils.py:21: FutureWarning: is_categorical is deprecated and will be removed in a future version.  Use is_categorical_dtype instead\n",
            "  elif pd.api.types.is_categorical(cols):\n",
            "/usr/local/lib/python3.6/dist-packages/category_encoders/utils.py:21: FutureWarning: is_categorical is deprecated and will be removed in a future version.  Use is_categorical_dtype instead\n",
            "  elif pd.api.types.is_categorical(cols):\n"
          ],
          "name": "stderr"
        }
      ]
    },
    {
      "cell_type": "code",
      "metadata": {
        "id": "CKMlnxSNg7bu",
        "outputId": "f9a844f0-b60a-4c1b-a205-38ffb5e4d5ea",
        "colab": {
          "base_uri": "https://localhost:8080/",
          "height": 136
        }
      },
      "source": [
        "print(y)"
      ],
      "execution_count": 27,
      "outputs": [
        {
          "output_type": "stream",
          "text": [
            "[[0 0 1]\n",
            " [0 0 1]\n",
            " [0 1 0]\n",
            " ...\n",
            " [0 1 0]\n",
            " [0 0 1]\n",
            " [0 0 1]]\n"
          ],
          "name": "stdout"
        }
      ]
    },
    {
      "cell_type": "code",
      "metadata": {
        "id": "BJ7FYeRmZWLi",
        "outputId": "470b2c74-83ec-4647-fd95-11f7f65ecc10",
        "colab": {
          "base_uri": "https://localhost:8080/",
          "height": 136
        }
      },
      "source": [
        "print(x)"
      ],
      "execution_count": 28,
      "outputs": [
        {
          "output_type": "stream",
          "text": [
            "[[0 0 0 ... 0 0 3]\n",
            " [0 0 0 ... 0 0 3]\n",
            " [0 0 0 ... 0 0 3]\n",
            " ...\n",
            " [0 0 0 ... 6 4 7]\n",
            " [0 0 0 ... 6 1 6]\n",
            " [0 0 1 ... 1 2 7]]\n"
          ],
          "name": "stdout"
        }
      ]
    },
    {
      "cell_type": "markdown",
      "metadata": {
        "id": "fODsvy35ZdMy"
      },
      "source": [
        "# Splitting the dataset into the Training set and Test set\n"
      ]
    },
    {
      "cell_type": "code",
      "metadata": {
        "id": "8oOgiVX9ZhCL"
      },
      "source": [
        "from sklearn.model_selection import train_test_split\n",
        "x_train, x_test, y_train, y_test = train_test_split(x, y, test_size = 0.2, random_state = 0)"
      ],
      "execution_count": 29,
      "outputs": []
    },
    {
      "cell_type": "markdown",
      "metadata": {
        "id": "N2rW7GHuZjtV"
      },
      "source": [
        "Feature Scaling"
      ]
    },
    {
      "cell_type": "code",
      "metadata": {
        "id": "Q1iuLZtrZlkt"
      },
      "source": [
        " from sklearn.preprocessing import StandardScaler\n",
        " sc = StandardScaler()\n",
        " x_train = sc.fit_transform(x_train)\n",
        " x_test = sc.transform(x_test)"
      ],
      "execution_count": 30,
      "outputs": []
    },
    {
      "cell_type": "markdown",
      "metadata": {
        "id": "Lb9ls79lZo3E"
      },
      "source": [
        "# Init ANN"
      ]
    },
    {
      "cell_type": "code",
      "metadata": {
        "id": "HbcS_b05ZqqA"
      },
      "source": [
        "ann = tf.keras.models.Sequential()"
      ],
      "execution_count": 92,
      "outputs": []
    },
    {
      "cell_type": "code",
      "metadata": {
        "id": "qi4mYOv1vY6Z",
        "outputId": "8d7a540c-fb02-4a48-fde2-6d2b2cf580ff",
        "colab": {
          "base_uri": "https://localhost:8080/",
          "height": 34
        }
      },
      "source": [
        "input_dimension = x_test[0].shape[0]\n",
        "print(input_dimension)"
      ],
      "execution_count": 93,
      "outputs": [
        {
          "output_type": "stream",
          "text": [
            "52\n"
          ],
          "name": "stdout"
        }
      ]
    },
    {
      "cell_type": "markdown",
      "metadata": {
        "id": "R2xm5-voZwrU"
      },
      "source": [
        "### Add layers\n"
      ]
    },
    {
      "cell_type": "code",
      "metadata": {
        "id": "y0ykxnIYZ3Pq"
      },
      "source": [
        "ann.add(tf.keras.layers.Dense(30, activation='relu', input_dim=input_dimension))"
      ],
      "execution_count": 94,
      "outputs": []
    },
    {
      "cell_type": "markdown",
      "metadata": {
        "id": "eMJ0spWuZ8Md"
      },
      "source": [
        "### Output Layers"
      ]
    },
    {
      "cell_type": "code",
      "metadata": {
        "id": "p4po7_3AZ_-J"
      },
      "source": [
        "ann.add(tf.keras.layers.Dense(units = 3, activation='softmax')) "
      ],
      "execution_count": 95,
      "outputs": []
    },
    {
      "cell_type": "markdown",
      "metadata": {
        "id": "LVmnECNzaF0R"
      },
      "source": [
        "### Compile"
      ]
    },
    {
      "cell_type": "code",
      "metadata": {
        "id": "YCyxEzdmaKrK"
      },
      "source": [
        "from keras.metrics import categorical_accuracy\n",
        "\n",
        "ann.compile(optimizer = 'rmsprop', loss = 'categorical_crossentropy', metrics = [categorical_accuracy])"
      ],
      "execution_count": 96,
      "outputs": []
    },
    {
      "cell_type": "markdown",
      "metadata": {
        "id": "y_bfjK16an07"
      },
      "source": [
        "### Training"
      ]
    },
    {
      "cell_type": "code",
      "metadata": {
        "id": "DrspJdp5apr2",
        "outputId": "e8067adb-0b26-40ba-e421-0912404e701a",
        "colab": {
          "base_uri": "https://localhost:8080/",
          "height": 734
        }
      },
      "source": [
        "ann.fit(x_train, y_train, batch_size = 32, epochs = 20, validation_data=(x_test, y_test))"
      ],
      "execution_count": 97,
      "outputs": [
        {
          "output_type": "stream",
          "text": [
            "Epoch 1/20\n",
            "231/231 [==============================] - 0s 2ms/step - loss: 0.7793 - categorical_accuracy: 0.6119 - val_loss: 0.6697 - val_categorical_accuracy: 0.6363\n",
            "Epoch 2/20\n",
            "231/231 [==============================] - 0s 1ms/step - loss: 0.6547 - categorical_accuracy: 0.6519 - val_loss: 0.6548 - val_categorical_accuracy: 0.6618\n",
            "Epoch 3/20\n",
            "231/231 [==============================] - 0s 1ms/step - loss: 0.6406 - categorical_accuracy: 0.6585 - val_loss: 0.6423 - val_categorical_accuracy: 0.6591\n",
            "Epoch 4/20\n",
            "231/231 [==============================] - 0s 1ms/step - loss: 0.6337 - categorical_accuracy: 0.6589 - val_loss: 0.6513 - val_categorical_accuracy: 0.6434\n",
            "Epoch 5/20\n",
            "231/231 [==============================] - 0s 1ms/step - loss: 0.6305 - categorical_accuracy: 0.6671 - val_loss: 0.6372 - val_categorical_accuracy: 0.6493\n",
            "Epoch 6/20\n",
            "231/231 [==============================] - 0s 1ms/step - loss: 0.6288 - categorical_accuracy: 0.6607 - val_loss: 0.6381 - val_categorical_accuracy: 0.6585\n",
            "Epoch 7/20\n",
            "231/231 [==============================] - 0s 1ms/step - loss: 0.6254 - categorical_accuracy: 0.6648 - val_loss: 0.6381 - val_categorical_accuracy: 0.6499\n",
            "Epoch 8/20\n",
            "231/231 [==============================] - 0s 1ms/step - loss: 0.6243 - categorical_accuracy: 0.6679 - val_loss: 0.6423 - val_categorical_accuracy: 0.6526\n",
            "Epoch 9/20\n",
            "231/231 [==============================] - 0s 1ms/step - loss: 0.6242 - categorical_accuracy: 0.6717 - val_loss: 0.6377 - val_categorical_accuracy: 0.6612\n",
            "Epoch 10/20\n",
            "231/231 [==============================] - 0s 1ms/step - loss: 0.6237 - categorical_accuracy: 0.6714 - val_loss: 0.6388 - val_categorical_accuracy: 0.6623\n",
            "Epoch 11/20\n",
            "231/231 [==============================] - 0s 1ms/step - loss: 0.6238 - categorical_accuracy: 0.6694 - val_loss: 0.6385 - val_categorical_accuracy: 0.6569\n",
            "Epoch 12/20\n",
            "231/231 [==============================] - 0s 1ms/step - loss: 0.6230 - categorical_accuracy: 0.6724 - val_loss: 0.6685 - val_categorical_accuracy: 0.6466\n",
            "Epoch 13/20\n",
            "231/231 [==============================] - 0s 1ms/step - loss: 0.6227 - categorical_accuracy: 0.6717 - val_loss: 0.6485 - val_categorical_accuracy: 0.6553\n",
            "Epoch 14/20\n",
            "231/231 [==============================] - 0s 1ms/step - loss: 0.6224 - categorical_accuracy: 0.6752 - val_loss: 0.6428 - val_categorical_accuracy: 0.6385\n",
            "Epoch 15/20\n",
            "231/231 [==============================] - 0s 1ms/step - loss: 0.6226 - categorical_accuracy: 0.6718 - val_loss: 0.6533 - val_categorical_accuracy: 0.6358\n",
            "Epoch 16/20\n",
            "231/231 [==============================] - 0s 1ms/step - loss: 0.6233 - categorical_accuracy: 0.6737 - val_loss: 0.6474 - val_categorical_accuracy: 0.6569\n",
            "Epoch 17/20\n",
            "231/231 [==============================] - 0s 1ms/step - loss: 0.6248 - categorical_accuracy: 0.6730 - val_loss: 0.6650 - val_categorical_accuracy: 0.6428\n",
            "Epoch 18/20\n",
            "231/231 [==============================] - 0s 1ms/step - loss: 0.6258 - categorical_accuracy: 0.6737 - val_loss: 0.6418 - val_categorical_accuracy: 0.6602\n",
            "Epoch 19/20\n",
            "231/231 [==============================] - 0s 1ms/step - loss: 0.6241 - categorical_accuracy: 0.6694 - val_loss: 0.6580 - val_categorical_accuracy: 0.6558\n",
            "Epoch 20/20\n",
            "231/231 [==============================] - 0s 1ms/step - loss: 0.6274 - categorical_accuracy: 0.6680 - val_loss: 0.6731 - val_categorical_accuracy: 0.6493\n"
          ],
          "name": "stdout"
        },
        {
          "output_type": "execute_result",
          "data": {
            "text/plain": [
              "<tensorflow.python.keras.callbacks.History at 0x7fc9d67c6f28>"
            ]
          },
          "metadata": {
            "tags": []
          },
          "execution_count": 97
        }
      ]
    },
    {
      "cell_type": "markdown",
      "metadata": {
        "id": "0NU5XOeHlvh6"
      },
      "source": [
        "### Predict"
      ]
    },
    {
      "cell_type": "code",
      "metadata": {
        "id": "5OKaNzfWluTV",
        "outputId": "f4d8c33d-bea0-47d9-aa8b-3022a8667bb0",
        "colab": {
          "base_uri": "https://localhost:8080/",
          "height": 85
        }
      },
      "source": [
        "pred_train= ann.predict(x_train)\n",
        "scores = ann.evaluate(x_train, y_train, verbose=0)\n",
        "print('Accuracy on training data: {}% \\n Error on training data: {}'.format(scores[1], 1 - scores[1]))   \n",
        " \n",
        "pred_test= ann.predict(x_test)\n",
        "scores2 = ann.evaluate(x_test, y_test, verbose=0)\n",
        "print('Accuracy on test data: {}% \\n Error on test data: {}'.format(scores2[1], 1 - scores2[1]))   "
      ],
      "execution_count": 98,
      "outputs": [
        {
          "output_type": "stream",
          "text": [
            "Accuracy on training data: 0.6636856198310852% \n",
            " Error on training data: 0.3363143801689148\n",
            "Accuracy on test data: 0.649322509765625% \n",
            " Error on test data: 0.350677490234375\n"
          ],
          "name": "stdout"
        }
      ]
    }
  ]
}