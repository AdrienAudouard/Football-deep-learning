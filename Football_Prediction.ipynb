{
  "nbformat": 4,
  "nbformat_minor": 0,
  "metadata": {
    "colab": {
      "name": "Football Prediction.ipynb",
      "provenance": [],
      "collapsed_sections": [],
      "toc_visible": true
    },
    "kernelspec": {
      "name": "python3",
      "display_name": "Python 3"
    }
  },
  "cells": [
    {
      "cell_type": "markdown",
      "metadata": {
        "id": "oI0Qv2Z_VdpA"
      },
      "source": [
        "## Import des librairies\n"
      ]
    },
    {
      "cell_type": "code",
      "metadata": {
        "id": "oe2SjipHWkOf",
        "outputId": "442ddf55-cac2-41fd-d34b-bac30f0d10b6",
        "colab": {
          "base_uri": "https://localhost:8080/",
          "height": 224
        }
      },
      "source": [
        "import numpy as np\n",
        "import pandas as pd\n",
        "import tensorflow as tf\n",
        "!pip install category_encoders"
      ],
      "execution_count": 223,
      "outputs": [
        {
          "output_type": "stream",
          "text": [
            "Requirement already satisfied: category_encoders in /usr/local/lib/python3.6/dist-packages (2.2.2)\n",
            "Requirement already satisfied: patsy>=0.5.1 in /usr/local/lib/python3.6/dist-packages (from category_encoders) (0.5.1)\n",
            "Requirement already satisfied: pandas>=0.21.1 in /usr/local/lib/python3.6/dist-packages (from category_encoders) (1.1.2)\n",
            "Requirement already satisfied: scikit-learn>=0.20.0 in /usr/local/lib/python3.6/dist-packages (from category_encoders) (0.22.2.post1)\n",
            "Requirement already satisfied: scipy>=1.0.0 in /usr/local/lib/python3.6/dist-packages (from category_encoders) (1.4.1)\n",
            "Requirement already satisfied: statsmodels>=0.9.0 in /usr/local/lib/python3.6/dist-packages (from category_encoders) (0.10.2)\n",
            "Requirement already satisfied: numpy>=1.14.0 in /usr/local/lib/python3.6/dist-packages (from category_encoders) (1.18.5)\n",
            "Requirement already satisfied: six in /usr/local/lib/python3.6/dist-packages (from patsy>=0.5.1->category_encoders) (1.15.0)\n",
            "Requirement already satisfied: python-dateutil>=2.7.3 in /usr/local/lib/python3.6/dist-packages (from pandas>=0.21.1->category_encoders) (2.8.1)\n",
            "Requirement already satisfied: pytz>=2017.2 in /usr/local/lib/python3.6/dist-packages (from pandas>=0.21.1->category_encoders) (2018.9)\n",
            "Requirement already satisfied: joblib>=0.11 in /usr/local/lib/python3.6/dist-packages (from scikit-learn>=0.20.0->category_encoders) (0.16.0)\n"
          ],
          "name": "stdout"
        }
      ]
    },
    {
      "cell_type": "code",
      "metadata": {
        "id": "Qss_eo9VWnol",
        "outputId": "b0a1ac27-ec96-4f5e-9e9c-92ad3abe82b3",
        "colab": {
          "base_uri": "https://localhost:8080/",
          "height": 35
        }
      },
      "source": [
        "tf.__version__"
      ],
      "execution_count": 224,
      "outputs": [
        {
          "output_type": "execute_result",
          "data": {
            "application/vnd.google.colaboratory.intrinsic+json": {
              "type": "string"
            },
            "text/plain": [
              "'2.3.0'"
            ]
          },
          "metadata": {
            "tags": []
          },
          "execution_count": 224
        }
      ]
    },
    {
      "cell_type": "markdown",
      "metadata": {
        "id": "p5j4gv44WrDL"
      },
      "source": [
        "# Importing Dataset"
      ]
    },
    {
      "cell_type": "code",
      "metadata": {
        "id": "wCKGHFE9WtrD"
      },
      "source": [
        "dataset = pd.read_csv('export.csv')\n",
        "x = dataset.iloc[:, [True, True, True, True, False, False, True, True, True, True, True, True, True, True, True, True, True, True, True, True, True, True, True, True, True, True, True, True, True, True, True, True]].values # Toutes les colonnes à partir de l'index 3 jusqu'à l'avant dernière \n",
        "y = dataset.iloc[:, 5].values # Uniquement la dernière colonne du dataset (expected)"
      ],
      "execution_count": 225,
      "outputs": []
    },
    {
      "cell_type": "code",
      "metadata": {
        "id": "UDPsrpAzXuRt",
        "outputId": "d8c5163d-cc24-493c-97fc-49f44500203c",
        "colab": {
          "base_uri": "https://localhost:8080/",
          "height": 51
        }
      },
      "source": [
        "print(x[0])"
      ],
      "execution_count": 226,
      "outputs": [
        {
          "output_type": "stream",
          "text": [
            "['Guingamp' 'Monaco' 'French Ligue 1' '2016/17' 1 1 0 0 0 0 0 0 0 0 0 0 3\n",
            " 2 2 0 0 0 0 0 0 0 0 0 0 3]\n"
          ],
          "name": "stdout"
        }
      ]
    },
    {
      "cell_type": "code",
      "metadata": {
        "id": "sNzT1w4iXvO9",
        "outputId": "8c4a1763-6b4f-488c-d222-2a80efe54156",
        "colab": {
          "base_uri": "https://localhost:8080/",
          "height": 34
        }
      },
      "source": [
        "print(y)"
      ],
      "execution_count": 227,
      "outputs": [
        {
          "output_type": "stream",
          "text": [
            "['HOME' 'HOME' 'AWAY' ... 'AWAY' 'HOME' 'HOME']\n"
          ],
          "name": "stdout"
        }
      ]
    },
    {
      "cell_type": "markdown",
      "metadata": {
        "id": "XXya-mbpZKpW"
      },
      "source": [
        "# Encoding Data"
      ]
    },
    {
      "cell_type": "code",
      "metadata": {
        "id": "Dj6We4WBZM9A",
        "outputId": "7db950db-8ca3-4b36-f12a-df5c762898c7",
        "colab": {
          "base_uri": "https://localhost:8080/",
          "height": 105
        }
      },
      "source": [
        "from sklearn.preprocessing import OneHotEncoder\n",
        "from sklearn.compose import ColumnTransformer\n",
        "import category_encoders as ce\n",
        "\n",
        "ct = ColumnTransformer(transformers=[('encoder', ce.BinaryEncoder(), [0, 1, 2, 3])], remainder='passthrough')\n",
        "cty = ColumnTransformer(transformers=[('encoder', ce.BinaryEncoder(), [0])], remainder='passthrough')\n",
        "\n",
        "x = np.array(ct.fit_transform(x))\n",
        "\n",
        "y=y.reshape(-1,1)\n",
        "\n",
        "y = np.array(cty.fit_transform(y))\n"
      ],
      "execution_count": 228,
      "outputs": [
        {
          "output_type": "stream",
          "text": [
            "/usr/local/lib/python3.6/dist-packages/category_encoders/utils.py:21: FutureWarning: is_categorical is deprecated and will be removed in a future version.  Use is_categorical_dtype instead\n",
            "  elif pd.api.types.is_categorical(cols):\n",
            "/usr/local/lib/python3.6/dist-packages/category_encoders/utils.py:21: FutureWarning: is_categorical is deprecated and will be removed in a future version.  Use is_categorical_dtype instead\n",
            "  elif pd.api.types.is_categorical(cols):\n"
          ],
          "name": "stderr"
        }
      ]
    },
    {
      "cell_type": "code",
      "metadata": {
        "id": "CKMlnxSNg7bu",
        "outputId": "ef3c903e-da6d-4701-c471-35ebcd5b649a",
        "colab": {
          "base_uri": "https://localhost:8080/",
          "height": 136
        }
      },
      "source": [
        "print(y)"
      ],
      "execution_count": 229,
      "outputs": [
        {
          "output_type": "stream",
          "text": [
            "[[0 0 1]\n",
            " [0 0 1]\n",
            " [0 1 0]\n",
            " ...\n",
            " [0 1 0]\n",
            " [0 0 1]\n",
            " [0 0 1]]\n"
          ],
          "name": "stdout"
        }
      ]
    },
    {
      "cell_type": "code",
      "metadata": {
        "id": "BJ7FYeRmZWLi",
        "outputId": "c3b2f67f-406f-4897-de69-af97125fb14f",
        "colab": {
          "base_uri": "https://localhost:8080/",
          "height": 136
        }
      },
      "source": [
        "print(x)"
      ],
      "execution_count": 230,
      "outputs": [
        {
          "output_type": "stream",
          "text": [
            "[[0 0 0 ... 0 0 3]\n",
            " [0 0 0 ... 0 0 3]\n",
            " [0 0 0 ... 0 0 3]\n",
            " ...\n",
            " [0 0 0 ... 6 4 7]\n",
            " [0 0 0 ... 6 1 6]\n",
            " [0 0 1 ... 1 2 7]]\n"
          ],
          "name": "stdout"
        }
      ]
    },
    {
      "cell_type": "markdown",
      "metadata": {
        "id": "fODsvy35ZdMy"
      },
      "source": [
        "# Splitting the dataset into the Training set and Test set\n"
      ]
    },
    {
      "cell_type": "code",
      "metadata": {
        "id": "8oOgiVX9ZhCL"
      },
      "source": [
        "from sklearn.model_selection import train_test_split\n",
        "x_train, x_test, y_train, y_test = train_test_split(x, y, test_size = 0.2, random_state = 0)"
      ],
      "execution_count": 231,
      "outputs": []
    },
    {
      "cell_type": "markdown",
      "metadata": {
        "id": "N2rW7GHuZjtV"
      },
      "source": [
        "Feature Scaling"
      ]
    },
    {
      "cell_type": "code",
      "metadata": {
        "id": "Q1iuLZtrZlkt"
      },
      "source": [
        " from sklearn.preprocessing import StandardScaler\n",
        " sc = StandardScaler()\n",
        " x_train = sc.fit_transform(x_train)\n",
        " x_test = sc.transform(x_test)"
      ],
      "execution_count": 232,
      "outputs": []
    },
    {
      "cell_type": "markdown",
      "metadata": {
        "id": "Lb9ls79lZo3E"
      },
      "source": [
        "# Init ANN"
      ]
    },
    {
      "cell_type": "code",
      "metadata": {
        "id": "HbcS_b05ZqqA"
      },
      "source": [
        "ann = tf.keras.models.Sequential()"
      ],
      "execution_count": 261,
      "outputs": []
    },
    {
      "cell_type": "code",
      "metadata": {
        "id": "qi4mYOv1vY6Z",
        "outputId": "60f5a133-e0ff-46ce-9ab2-51cfbc85d61b",
        "colab": {
          "base_uri": "https://localhost:8080/",
          "height": 34
        }
      },
      "source": [
        "input_dimension = x_test[0].shape[0]\n",
        "print(input_dimension)"
      ],
      "execution_count": 262,
      "outputs": [
        {
          "output_type": "stream",
          "text": [
            "52\n"
          ],
          "name": "stdout"
        }
      ]
    },
    {
      "cell_type": "markdown",
      "metadata": {
        "id": "R2xm5-voZwrU"
      },
      "source": [
        "### Add layers\n"
      ]
    },
    {
      "cell_type": "code",
      "metadata": {
        "id": "y0ykxnIYZ3Pq"
      },
      "source": [
        "ann.add(tf.keras.layers.Dense(128, activation='tanh', input_dim=input_dimension))"
      ],
      "execution_count": 263,
      "outputs": []
    },
    {
      "cell_type": "markdown",
      "metadata": {
        "id": "eMJ0spWuZ8Md"
      },
      "source": [
        "### Output Layers"
      ]
    },
    {
      "cell_type": "code",
      "metadata": {
        "id": "p4po7_3AZ_-J"
      },
      "source": [
        "ann.add(tf.keras.layers.Dense(units = 3, activation='softmax')) "
      ],
      "execution_count": 264,
      "outputs": []
    },
    {
      "cell_type": "markdown",
      "metadata": {
        "id": "LVmnECNzaF0R"
      },
      "source": [
        "### Compile"
      ]
    },
    {
      "cell_type": "code",
      "metadata": {
        "id": "YCyxEzdmaKrK"
      },
      "source": [
        "from keras.metrics import categorical_accuracy\n",
        "\n",
        "ann.compile(optimizer = 'adam', loss = 'categorical_crossentropy', metrics = ['accuracy'])"
      ],
      "execution_count": 265,
      "outputs": []
    },
    {
      "cell_type": "markdown",
      "metadata": {
        "id": "y_bfjK16an07"
      },
      "source": [
        "### Training"
      ]
    },
    {
      "cell_type": "code",
      "metadata": {
        "id": "DrspJdp5apr2",
        "outputId": "76b4da13-20cb-4c32-dfdc-14e5e7bdb120",
        "colab": {
          "base_uri": "https://localhost:8080/",
          "height": 717
        }
      },
      "source": [
        "history = ann.fit(x_train, y_train, epochs = 20,batch_size=100, validation_data=(x_test, y_test))"
      ],
      "execution_count": 266,
      "outputs": [
        {
          "output_type": "stream",
          "text": [
            "Epoch 1/20\n",
            "74/74 [==============================] - 0s 3ms/step - loss: 0.9459 - accuracy: 0.6030 - val_loss: 0.8000 - val_accuracy: 0.6542\n",
            "Epoch 2/20\n",
            "74/74 [==============================] - 0s 2ms/step - loss: 0.7357 - accuracy: 0.6600 - val_loss: 0.6938 - val_accuracy: 0.6672\n",
            "Epoch 3/20\n",
            "74/74 [==============================] - 0s 2ms/step - loss: 0.6711 - accuracy: 0.6593 - val_loss: 0.6640 - val_accuracy: 0.6569\n",
            "Epoch 4/20\n",
            "74/74 [==============================] - 0s 2ms/step - loss: 0.6497 - accuracy: 0.6595 - val_loss: 0.6552 - val_accuracy: 0.6515\n",
            "Epoch 5/20\n",
            "74/74 [==============================] - 0s 2ms/step - loss: 0.6405 - accuracy: 0.6611 - val_loss: 0.6444 - val_accuracy: 0.6640\n",
            "Epoch 6/20\n",
            "74/74 [==============================] - 0s 2ms/step - loss: 0.6353 - accuracy: 0.6644 - val_loss: 0.6414 - val_accuracy: 0.6569\n",
            "Epoch 7/20\n",
            "74/74 [==============================] - 0s 2ms/step - loss: 0.6311 - accuracy: 0.6664 - val_loss: 0.6410 - val_accuracy: 0.6488\n",
            "Epoch 8/20\n",
            "74/74 [==============================] - 0s 2ms/step - loss: 0.6304 - accuracy: 0.6646 - val_loss: 0.6363 - val_accuracy: 0.6656\n",
            "Epoch 9/20\n",
            "74/74 [==============================] - 0s 2ms/step - loss: 0.6272 - accuracy: 0.6648 - val_loss: 0.6381 - val_accuracy: 0.6558\n",
            "Epoch 10/20\n",
            "74/74 [==============================] - 0s 2ms/step - loss: 0.6255 - accuracy: 0.6707 - val_loss: 0.6349 - val_accuracy: 0.6553\n",
            "Epoch 11/20\n",
            "74/74 [==============================] - 0s 2ms/step - loss: 0.6222 - accuracy: 0.6763 - val_loss: 0.6327 - val_accuracy: 0.6661\n",
            "Epoch 12/20\n",
            "74/74 [==============================] - 0s 2ms/step - loss: 0.6202 - accuracy: 0.6718 - val_loss: 0.6394 - val_accuracy: 0.6618\n",
            "Epoch 13/20\n",
            "74/74 [==============================] - 0s 2ms/step - loss: 0.6189 - accuracy: 0.6782 - val_loss: 0.6365 - val_accuracy: 0.6569\n",
            "Epoch 14/20\n",
            "74/74 [==============================] - 0s 2ms/step - loss: 0.6179 - accuracy: 0.6776 - val_loss: 0.6330 - val_accuracy: 0.6623\n",
            "Epoch 15/20\n",
            "74/74 [==============================] - 0s 2ms/step - loss: 0.6168 - accuracy: 0.6755 - val_loss: 0.6331 - val_accuracy: 0.6575\n",
            "Epoch 16/20\n",
            "74/74 [==============================] - 0s 2ms/step - loss: 0.6171 - accuracy: 0.6799 - val_loss: 0.6399 - val_accuracy: 0.6526\n",
            "Epoch 17/20\n",
            "74/74 [==============================] - 0s 2ms/step - loss: 0.6152 - accuracy: 0.6737 - val_loss: 0.6350 - val_accuracy: 0.6558\n",
            "Epoch 18/20\n",
            "74/74 [==============================] - 0s 2ms/step - loss: 0.6147 - accuracy: 0.6768 - val_loss: 0.6337 - val_accuracy: 0.6580\n",
            "Epoch 19/20\n",
            "74/74 [==============================] - 0s 2ms/step - loss: 0.6116 - accuracy: 0.6778 - val_loss: 0.6419 - val_accuracy: 0.6569\n",
            "Epoch 20/20\n",
            "74/74 [==============================] - 0s 2ms/step - loss: 0.6148 - accuracy: 0.6770 - val_loss: 0.6414 - val_accuracy: 0.6488\n"
          ],
          "name": "stdout"
        }
      ]
    },
    {
      "cell_type": "markdown",
      "metadata": {
        "id": "phg3Q8YJ59ol"
      },
      "source": [
        "## History"
      ]
    },
    {
      "cell_type": "code",
      "metadata": {
        "id": "DnyhlaxP59G_",
        "outputId": "92dd4a57-b27a-4975-eba5-dacc64a1ff01",
        "colab": {
          "base_uri": "https://localhost:8080/",
          "height": 590
        }
      },
      "source": [
        "import matplotlib.pyplot as plt\n",
        "\n",
        "# list all data in history\n",
        "print(history.history.keys())\n",
        "# summarize history for accuracy\n",
        "plt.plot(history.history['accuracy'])\n",
        "plt.plot(history.history['val_accuracy'])\n",
        "plt.title('model accuracy')\n",
        "plt.ylabel('accuracy')\n",
        "plt.xlabel('epoch')\n",
        "plt.legend(['train', 'test'], loc='upper left')\n",
        "plt.show()\n",
        "# summarize history for loss\n",
        "plt.plot(history.history['loss'])\n",
        "plt.plot(history.history['val_loss'])\n",
        "plt.title('model loss')\n",
        "plt.ylabel('loss')\n",
        "plt.xlabel('epoch')\n",
        "plt.legend(['train', 'test'], loc='upper left')\n",
        "plt.show()"
      ],
      "execution_count": 267,
      "outputs": [
        {
          "output_type": "stream",
          "text": [
            "dict_keys(['loss', 'accuracy', 'val_loss', 'val_accuracy'])\n"
          ],
          "name": "stdout"
        },
        {
          "output_type": "display_data",
          "data": {
            "image/png": "[encoded data removed]",
            "text/plain": [
              "<Figure size 432x288 with 1 Axes>"
            ]
          },
          "metadata": {
            "tags": [],
            "needs_background": "light"
          }
        },
        {
          "output_type": "display_data",
          "data": {
            "image/png": "[encoded data removed]",
            "text/plain": [
              "<Figure size 432x288 with 1 Axes>"
            ]
          },
          "metadata": {
            "tags": [],
            "needs_background": "light"
          }
        }
      ]
    },
    {
      "cell_type": "markdown",
      "metadata": {
        "id": "0NU5XOeHlvh6"
      },
      "source": [
        "### Predict"
      ]
    },
    {
      "cell_type": "code",
      "metadata": {
        "id": "5OKaNzfWluTV",
        "outputId": "6b74969a-5cca-415b-f4a5-8c4d5762550b",
        "colab": {
          "base_uri": "https://localhost:8080/",
          "height": 85
        }
      },
      "source": [
        "pred_train= ann.predict(x_train)\n",
        "scores = ann.evaluate(x_train, y_train, verbose=0)\n",
        "print('Accuracy on training data: {}% \\n Error on training data: {}'.format(scores[1], 1 - scores[1]))   \n",
        " \n",
        "pred_test= ann.predict(x_test)\n",
        "scores2 = ann.evaluate(x_test, y_test, verbose=0)\n",
        "print('Accuracy on test data: {}% \\n Error on test data: {}'.format(scores2[1], 1 - scores2[1]))   "
      ],
      "execution_count": 268,
      "outputs": [
        {
          "output_type": "stream",
          "text": [
            "Accuracy on training data: 0.68143630027771% \n",
            " Error on training data: 0.31856369972229004\n",
            "Accuracy on test data: 0.6487804651260376% \n",
            " Error on test data: 0.3512195348739624\n"
          ],
          "name": "stdout"
        }
      ]
    }
  ]
}