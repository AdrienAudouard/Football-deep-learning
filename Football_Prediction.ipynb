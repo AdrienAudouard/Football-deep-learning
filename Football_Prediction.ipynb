{
  "nbformat": 4,
  "nbformat_minor": 0,
  "metadata": {
    "colab": {
      "name": "Football Prediction.ipynb",
      "provenance": [],
      "collapsed_sections": [],
      "include_colab_link": true
    },
    "kernelspec": {
      "name": "python3",
      "display_name": "Python 3"
    }
  },
  "cells": [
    {
      "cell_type": "markdown",
      "metadata": {
        "id": "view-in-github",
        "colab_type": "text"
      },
      "source": [
        "<a href=\"https://colab.research.google.com/github/AdrienAudouard/Football-deep-learning/blob/master/Football_Prediction.ipynb\" target=\"_parent\"><img src=\"https://colab.research.google.com/assets/colab-badge.svg\" alt=\"Open In Colab\"/></a>"
      ]
    },
    {
      "cell_type": "markdown",
      "metadata": {
        "id": "oI0Qv2Z_VdpA"
      },
      "source": [
        "## Import des librairies\n"
      ]
    },
    {
      "cell_type": "code",
      "metadata": {
        "id": "oe2SjipHWkOf",
        "outputId": "f88c2e59-dfba-4316-d5c7-cdf6f99110fb",
        "colab": {
          "base_uri": "https://localhost:8080/",
          "height": 224
        }
      },
      "source": [
        "import numpy as np\n",
        "import pandas as pd\n",
        "import tensorflow as tf\n",
        "!pip install category_encoders"
      ],
      "execution_count": null,
      "outputs": [
        {
          "output_type": "stream",
          "text": [
            "Requirement already satisfied: category_encoders in /usr/local/lib/python3.6/dist-packages (2.2.2)\n",
            "Requirement already satisfied: pandas>=0.21.1 in /usr/local/lib/python3.6/dist-packages (from category_encoders) (1.1.2)\n",
            "Requirement already satisfied: statsmodels>=0.9.0 in /usr/local/lib/python3.6/dist-packages (from category_encoders) (0.10.2)\n",
            "Requirement already satisfied: patsy>=0.5.1 in /usr/local/lib/python3.6/dist-packages (from category_encoders) (0.5.1)\n",
            "Requirement already satisfied: scikit-learn>=0.20.0 in /usr/local/lib/python3.6/dist-packages (from category_encoders) (0.22.2.post1)\n",
            "Requirement already satisfied: numpy>=1.14.0 in /usr/local/lib/python3.6/dist-packages (from category_encoders) (1.18.5)\n",
            "Requirement already satisfied: scipy>=1.0.0 in /usr/local/lib/python3.6/dist-packages (from category_encoders) (1.4.1)\n",
            "Requirement already satisfied: python-dateutil>=2.7.3 in /usr/local/lib/python3.6/dist-packages (from pandas>=0.21.1->category_encoders) (2.8.1)\n",
            "Requirement already satisfied: pytz>=2017.2 in /usr/local/lib/python3.6/dist-packages (from pandas>=0.21.1->category_encoders) (2018.9)\n",
            "Requirement already satisfied: six in /usr/local/lib/python3.6/dist-packages (from patsy>=0.5.1->category_encoders) (1.15.0)\n",
            "Requirement already satisfied: joblib>=0.11 in /usr/local/lib/python3.6/dist-packages (from scikit-learn>=0.20.0->category_encoders) (0.16.0)\n"
          ],
          "name": "stdout"
        }
      ]
    },
    {
      "cell_type": "code",
      "metadata": {
        "id": "Qss_eo9VWnol",
        "outputId": "57215231-9fbb-4412-dfc7-842fd5bf3160",
        "colab": {
          "base_uri": "https://localhost:8080/",
          "height": 35
        }
      },
      "source": [
        "tf.__version__"
      ],
      "execution_count": null,
      "outputs": [
        {
          "output_type": "execute_result",
          "data": {
            "application/vnd.google.colaboratory.intrinsic+json": {
              "type": "string"
            },
            "text/plain": [
              "'2.3.0'"
            ]
          },
          "metadata": {
            "tags": []
          },
          "execution_count": 81
        }
      ]
    },
    {
      "cell_type": "markdown",
      "metadata": {
        "id": "p5j4gv44WrDL"
      },
      "source": [
        "# Importing Dataset"
      ]
    },
    {
      "cell_type": "code",
      "metadata": {
        "id": "wCKGHFE9WtrD"
      },
      "source": [
        "dataset = pd.read_csv('export.csv')\n",
        "x = dataset.iloc[:, [True, True, True, True, False, False, True, True, True, True, True, True, True, True, True, True, True, True, True, True, True, True, True, True, True, True, True, True, True, True, True, True]].values # Toutes les colonnes à partir de l'index 3 jusqu'à l'avant dernière \n",
        "y = dataset.iloc[:, 5].values # Uniquement la dernière colonne du dataset (expected)"
      ],
      "execution_count": null,
      "outputs": []
    },
    {
      "cell_type": "code",
      "metadata": {
        "id": "UDPsrpAzXuRt",
        "outputId": "7d169b1d-8e81-44d6-82ba-c31f3f540c6f",
        "colab": {
          "base_uri": "https://localhost:8080/",
          "height": 51
        }
      },
      "source": [
        "print(x[0])"
      ],
      "execution_count": null,
      "outputs": [
        {
          "output_type": "stream",
          "text": [
            "['Guingamp' 'Monaco' 'French Ligue 1' '2016/17' 1 1 0 0 0 0 0 0 0 0 0 0 3\n",
            " 2 2 0 0 0 0 0 0 0 0 0 0 3]\n"
          ],
          "name": "stdout"
        }
      ]
    },
    {
      "cell_type": "code",
      "metadata": {
        "id": "sNzT1w4iXvO9",
        "outputId": "d15d47eb-7645-4ec6-f67f-07a3e8b9dc83",
        "colab": {
          "base_uri": "https://localhost:8080/",
          "height": 34
        }
      },
      "source": [
        "print(y)"
      ],
      "execution_count": null,
      "outputs": [
        {
          "output_type": "stream",
          "text": [
            "['HOME' 'HOME' 'AWAY' ... 'AWAY' 'HOME' 'HOME']\n"
          ],
          "name": "stdout"
        }
      ]
    },
    {
      "cell_type": "markdown",
      "metadata": {
        "id": "XXya-mbpZKpW"
      },
      "source": [
        "# Encoding Data"
      ]
    },
    {
      "cell_type": "code",
      "metadata": {
        "id": "Dj6We4WBZM9A",
        "outputId": "3897befe-af18-4399-d309-ef1fcdcff70d",
        "colab": {
          "base_uri": "https://localhost:8080/",
          "height": 105
        }
      },
      "source": [
        "from sklearn.preprocessing import OneHotEncoder\n",
        "from sklearn.compose import ColumnTransformer\n",
        "import category_encoders as ce\n",
        "\n",
        "ct = ColumnTransformer(transformers=[('encoder', ce.BinaryEncoder(), [0, 1, 2, 3])], remainder='passthrough')\n",
        "cty = ColumnTransformer(transformers=[('encoder', ce.BinaryEncoder(), [0])], remainder='passthrough')\n",
        "\n",
        "x = np.array(ct.fit_transform(x))\n",
        "\n",
        "y=y.reshape(-1,1)\n",
        "\n",
        "y = np.array(cty.fit_transform(y))\n"
      ],
      "execution_count": null,
      "outputs": [
        {
          "output_type": "stream",
          "text": [
            "/usr/local/lib/python3.6/dist-packages/category_encoders/utils.py:21: FutureWarning: is_categorical is deprecated and will be removed in a future version.  Use is_categorical_dtype instead\n",
            "  elif pd.api.types.is_categorical(cols):\n",
            "/usr/local/lib/python3.6/dist-packages/category_encoders/utils.py:21: FutureWarning: is_categorical is deprecated and will be removed in a future version.  Use is_categorical_dtype instead\n",
            "  elif pd.api.types.is_categorical(cols):\n"
          ],
          "name": "stderr"
        }
      ]
    },
    {
      "cell_type": "code",
      "metadata": {
        "id": "CKMlnxSNg7bu",
        "outputId": "632209e1-f448-49b9-8215-365fec1fc529",
        "colab": {
          "base_uri": "https://localhost:8080/",
          "height": 136
        }
      },
      "source": [
        "print(y)"
      ],
      "execution_count": null,
      "outputs": [
        {
          "output_type": "stream",
          "text": [
            "[[0 0 1]\n",
            " [0 0 1]\n",
            " [0 1 0]\n",
            " ...\n",
            " [0 1 0]\n",
            " [0 0 1]\n",
            " [0 0 1]]\n"
          ],
          "name": "stdout"
        }
      ]
    },
    {
      "cell_type": "code",
      "metadata": {
        "id": "BJ7FYeRmZWLi",
        "outputId": "b3170f33-1b49-4007-9deb-b116dd2e8774",
        "colab": {
          "base_uri": "https://localhost:8080/",
          "height": 136
        }
      },
      "source": [
        "print(x)"
      ],
      "execution_count": null,
      "outputs": [
        {
          "output_type": "stream",
          "text": [
            "[[0 0 0 ... 0 0 3]\n",
            " [0 0 0 ... 0 0 3]\n",
            " [0 0 0 ... 0 0 3]\n",
            " ...\n",
            " [0 0 0 ... 6 4 7]\n",
            " [0 0 0 ... 6 1 6]\n",
            " [0 0 1 ... 1 2 7]]\n"
          ],
          "name": "stdout"
        }
      ]
    },
    {
      "cell_type": "markdown",
      "metadata": {
        "id": "fODsvy35ZdMy"
      },
      "source": [
        "# Splitting the dataset into the Training set and Test set\n"
      ]
    },
    {
      "cell_type": "code",
      "metadata": {
        "id": "8oOgiVX9ZhCL"
      },
      "source": [
        "from sklearn.model_selection import train_test_split\n",
        "x_train, x_test, y_train, y_test = train_test_split(x, y, test_size = 0.2, random_state = 0)"
      ],
      "execution_count": null,
      "outputs": []
    },
    {
      "cell_type": "markdown",
      "metadata": {
        "id": "N2rW7GHuZjtV"
      },
      "source": [
        "Feature Scaling"
      ]
    },
    {
      "cell_type": "code",
      "metadata": {
        "id": "Q1iuLZtrZlkt"
      },
      "source": [
        " from sklearn.preprocessing import StandardScaler\n",
        " sc = StandardScaler()\n",
        " x_train = sc.fit_transform(x_train)\n",
        " x_test = sc.transform(x_test)"
      ],
      "execution_count": null,
      "outputs": []
    },
    {
      "cell_type": "markdown",
      "metadata": {
        "id": "Lb9ls79lZo3E"
      },
      "source": [
        "# Init ANN"
      ]
    },
    {
      "cell_type": "code",
      "metadata": {
        "id": "HbcS_b05ZqqA"
      },
      "source": [
        "ann = tf.keras.models.Sequential()"
      ],
      "execution_count": null,
      "outputs": []
    },
    {
      "cell_type": "markdown",
      "metadata": {
        "id": "R2xm5-voZwrU"
      },
      "source": [
        "### Add layers\n"
      ]
    },
    {
      "cell_type": "code",
      "metadata": {
        "id": "y0ykxnIYZ3Pq"
      },
      "source": [
        "ann.add(tf.keras.layers.Dense(64, activation='sigmoid')) \n",
        "ann.add(tf.keras.layers.Dense(32, activation='linear')) "
      ],
      "execution_count": null,
      "outputs": []
    },
    {
      "cell_type": "markdown",
      "metadata": {
        "id": "eMJ0spWuZ8Md"
      },
      "source": [
        "### Output Layers"
      ]
    },
    {
      "cell_type": "code",
      "metadata": {
        "id": "p4po7_3AZ_-J"
      },
      "source": [
        "ann.add(tf.keras.layers.Dense(units = 3, activation='softmax')) "
      ],
      "execution_count": null,
      "outputs": []
    },
    {
      "cell_type": "markdown",
      "metadata": {
        "id": "LVmnECNzaF0R"
      },
      "source": [
        "### Compile"
      ]
    },
    {
      "cell_type": "code",
      "metadata": {
        "id": "YCyxEzdmaKrK"
      },
      "source": [
        "ann.compile(optimizer = 'adam', loss = 'categorical_crossentropy', metrics = ['accuracy'])"
      ],
      "execution_count": null,
      "outputs": []
    },
    {
      "cell_type": "markdown",
      "metadata": {
        "id": "y_bfjK16an07"
      },
      "source": [
        "### Training"
      ]
    },
    {
      "cell_type": "code",
      "metadata": {
        "id": "DrspJdp5apr2",
        "outputId": "83e24eb3-d6fa-4d14-bd57-9dcf539a1f63",
        "colab": {
          "base_uri": "https://localhost:8080/",
          "height": 1000
        }
      },
      "source": [
        "ann.fit(x_train, y_train, batch_size = 32, epochs = 100, validation_data=(x_test, y_test))"
      ],
      "execution_count": null,
      "outputs": [
        {
          "output_type": "stream",
          "text": [
            "Epoch 1/100\n",
            "231/231 [==============================] - 1s 3ms/step - loss: 0.6690 - accuracy: 0.6396 - val_loss: 0.6381 - val_accuracy: 0.6634\n",
            "Epoch 2/100\n",
            "231/231 [==============================] - 0s 2ms/step - loss: 0.6450 - accuracy: 0.6508 - val_loss: 0.6396 - val_accuracy: 0.6602\n",
            "Epoch 3/100\n",
            "231/231 [==============================] - 0s 2ms/step - loss: 0.6518 - accuracy: 0.6486 - val_loss: 0.6508 - val_accuracy: 0.6401\n",
            "Epoch 4/100\n",
            "231/231 [==============================] - 0s 2ms/step - loss: 0.6717 - accuracy: 0.6317 - val_loss: 0.7364 - val_accuracy: 0.6179\n",
            "Epoch 5/100\n",
            "231/231 [==============================] - 0s 2ms/step - loss: 0.6716 - accuracy: 0.6339 - val_loss: 0.6427 - val_accuracy: 0.6645\n",
            "Epoch 6/100\n",
            "231/231 [==============================] - 0s 2ms/step - loss: 0.6854 - accuracy: 0.6190 - val_loss: 0.9366 - val_accuracy: 0.4656\n",
            "Epoch 7/100\n",
            "231/231 [==============================] - 0s 2ms/step - loss: 0.6973 - accuracy: 0.6160 - val_loss: 0.6434 - val_accuracy: 0.6526\n",
            "Epoch 8/100\n",
            "231/231 [==============================] - 0s 2ms/step - loss: 0.7311 - accuracy: 0.5923 - val_loss: 0.6585 - val_accuracy: 0.6602\n",
            "Epoch 9/100\n",
            "231/231 [==============================] - 0s 2ms/step - loss: 0.7126 - accuracy: 0.5996 - val_loss: 0.7427 - val_accuracy: 0.4911\n",
            "Epoch 10/100\n",
            "231/231 [==============================] - 0s 2ms/step - loss: 0.7206 - accuracy: 0.5779 - val_loss: 0.6582 - val_accuracy: 0.6499\n",
            "Epoch 11/100\n",
            "231/231 [==============================] - 0s 2ms/step - loss: 0.7134 - accuracy: 0.5866 - val_loss: 0.7200 - val_accuracy: 0.4921\n",
            "Epoch 12/100\n",
            "231/231 [==============================] - 0s 2ms/step - loss: 0.7418 - accuracy: 0.5631 - val_loss: 0.9648 - val_accuracy: 0.4238\n",
            "Epoch 13/100\n",
            "231/231 [==============================] - 0s 2ms/step - loss: 0.8442 - accuracy: 0.5584 - val_loss: 0.7275 - val_accuracy: 0.4656\n",
            "Epoch 14/100\n",
            "231/231 [==============================] - 0s 2ms/step - loss: 0.8217 - accuracy: 0.5416 - val_loss: 0.7104 - val_accuracy: 0.5810\n",
            "Epoch 15/100\n",
            "231/231 [==============================] - 0s 2ms/step - loss: 0.8054 - accuracy: 0.5450 - val_loss: 0.9291 - val_accuracy: 0.5799\n",
            "Epoch 16/100\n",
            "231/231 [==============================] - 0s 2ms/step - loss: 0.7599 - accuracy: 0.5577 - val_loss: 0.7158 - val_accuracy: 0.5799\n",
            "Epoch 17/100\n",
            "231/231 [==============================] - 0s 2ms/step - loss: 0.7642 - accuracy: 0.5535 - val_loss: 1.2152 - val_accuracy: 0.5799\n",
            "Epoch 18/100\n",
            "231/231 [==============================] - 0s 2ms/step - loss: 0.8086 - accuracy: 0.5424 - val_loss: 0.7479 - val_accuracy: 0.5799\n",
            "Epoch 19/100\n",
            "231/231 [==============================] - 0s 2ms/step - loss: 0.7597 - accuracy: 0.5444 - val_loss: 0.8814 - val_accuracy: 0.4201\n",
            "Epoch 20/100\n",
            "231/231 [==============================] - 0s 2ms/step - loss: 0.7684 - accuracy: 0.5488 - val_loss: 0.6921 - val_accuracy: 0.5810\n",
            "Epoch 21/100\n",
            "231/231 [==============================] - 0s 2ms/step - loss: 0.8495 - accuracy: 0.5272 - val_loss: 0.7031 - val_accuracy: 0.6005\n",
            "Epoch 22/100\n",
            "231/231 [==============================] - 0s 2ms/step - loss: 0.8949 - accuracy: 0.5301 - val_loss: 1.0120 - val_accuracy: 0.5799\n",
            "Epoch 23/100\n",
            "231/231 [==============================] - 0s 2ms/step - loss: 0.8129 - accuracy: 0.5407 - val_loss: 0.7014 - val_accuracy: 0.5821\n",
            "Epoch 24/100\n",
            "231/231 [==============================] - 0s 2ms/step - loss: 1.0675 - accuracy: 0.5191 - val_loss: 1.4451 - val_accuracy: 0.5799\n",
            "Epoch 25/100\n",
            "231/231 [==============================] - 0s 2ms/step - loss: 0.9021 - accuracy: 0.5187 - val_loss: 1.0725 - val_accuracy: 0.5799\n",
            "Epoch 26/100\n",
            "231/231 [==============================] - 0s 2ms/step - loss: 0.8646 - accuracy: 0.5341 - val_loss: 0.7202 - val_accuracy: 0.4298\n",
            "Epoch 27/100\n",
            "231/231 [==============================] - 0s 2ms/step - loss: 0.9431 - accuracy: 0.5213 - val_loss: 1.1231 - val_accuracy: 0.4201\n",
            "Epoch 28/100\n",
            "231/231 [==============================] - 0s 2ms/step - loss: 0.8707 - accuracy: 0.5244 - val_loss: 2.3776 - val_accuracy: 0.4201\n",
            "Epoch 29/100\n",
            "231/231 [==============================] - 0s 2ms/step - loss: 0.8893 - accuracy: 0.5172 - val_loss: 0.7249 - val_accuracy: 0.4217\n",
            "Epoch 30/100\n",
            "231/231 [==============================] - 0s 2ms/step - loss: 0.9238 - accuracy: 0.5262 - val_loss: 0.6991 - val_accuracy: 0.5799\n",
            "Epoch 31/100\n",
            "231/231 [==============================] - 1s 2ms/step - loss: 0.9255 - accuracy: 0.5201 - val_loss: 0.6979 - val_accuracy: 0.5799\n",
            "Epoch 32/100\n",
            "231/231 [==============================] - 0s 2ms/step - loss: 1.0043 - accuracy: 0.5280 - val_loss: 0.9311 - val_accuracy: 0.5799\n",
            "Epoch 33/100\n",
            "231/231 [==============================] - 0s 2ms/step - loss: 0.9602 - accuracy: 0.5247 - val_loss: 0.9303 - val_accuracy: 0.5799\n",
            "Epoch 34/100\n",
            "231/231 [==============================] - 0s 2ms/step - loss: 0.9406 - accuracy: 0.5198 - val_loss: 1.0276 - val_accuracy: 0.5799\n",
            "Epoch 35/100\n",
            "231/231 [==============================] - 0s 2ms/step - loss: 1.0027 - accuracy: 0.5160 - val_loss: 1.1044 - val_accuracy: 0.4201\n",
            "Epoch 36/100\n",
            "231/231 [==============================] - 0s 2ms/step - loss: 1.3169 - accuracy: 0.5136 - val_loss: 0.7149 - val_accuracy: 0.5848\n",
            "Epoch 37/100\n",
            "231/231 [==============================] - 0s 2ms/step - loss: 0.8334 - accuracy: 0.5268 - val_loss: 0.8191 - val_accuracy: 0.5799\n",
            "Epoch 38/100\n",
            "231/231 [==============================] - 0s 2ms/step - loss: 0.9603 - accuracy: 0.5140 - val_loss: 0.9734 - val_accuracy: 0.4201\n",
            "Epoch 39/100\n",
            "231/231 [==============================] - 0s 2ms/step - loss: 1.0030 - accuracy: 0.5247 - val_loss: 0.7478 - val_accuracy: 0.4201\n",
            "Epoch 40/100\n",
            "231/231 [==============================] - 0s 2ms/step - loss: 0.9184 - accuracy: 0.5161 - val_loss: 0.9299 - val_accuracy: 0.5799\n",
            "Epoch 41/100\n",
            "231/231 [==============================] - 0s 2ms/step - loss: 1.0401 - accuracy: 0.5186 - val_loss: 0.7617 - val_accuracy: 0.5799\n",
            "Epoch 42/100\n",
            "231/231 [==============================] - 0s 2ms/step - loss: 0.9777 - accuracy: 0.5154 - val_loss: 1.1803 - val_accuracy: 0.4201\n",
            "Epoch 43/100\n",
            "231/231 [==============================] - 0s 2ms/step - loss: 0.9567 - accuracy: 0.5262 - val_loss: 1.0478 - val_accuracy: 0.4201\n",
            "Epoch 44/100\n",
            "231/231 [==============================] - 0s 2ms/step - loss: 1.1394 - accuracy: 0.5107 - val_loss: 0.8617 - val_accuracy: 0.5799\n",
            "Epoch 45/100\n",
            "231/231 [==============================] - 0s 2ms/step - loss: 1.2513 - accuracy: 0.5115 - val_loss: 0.8715 - val_accuracy: 0.4201\n",
            "Epoch 46/100\n",
            "231/231 [==============================] - 0s 2ms/step - loss: 1.0136 - accuracy: 0.5144 - val_loss: 1.5270 - val_accuracy: 0.4201\n",
            "Epoch 47/100\n",
            "231/231 [==============================] - 0s 2ms/step - loss: 1.1484 - accuracy: 0.5119 - val_loss: 0.7000 - val_accuracy: 0.5799\n",
            "Epoch 48/100\n",
            "231/231 [==============================] - 0s 2ms/step - loss: 0.9599 - accuracy: 0.5228 - val_loss: 0.6985 - val_accuracy: 0.5799\n",
            "Epoch 49/100\n",
            "231/231 [==============================] - 0s 2ms/step - loss: 0.8817 - accuracy: 0.5322 - val_loss: 0.7622 - val_accuracy: 0.4201\n",
            "Epoch 50/100\n",
            "231/231 [==============================] - 0s 2ms/step - loss: 1.3744 - accuracy: 0.5014 - val_loss: 1.3413 - val_accuracy: 0.5799\n",
            "Epoch 51/100\n",
            "231/231 [==============================] - 0s 2ms/step - loss: 1.6148 - accuracy: 0.5194 - val_loss: 1.2100 - val_accuracy: 0.5799\n",
            "Epoch 52/100\n",
            "231/231 [==============================] - 0s 2ms/step - loss: 1.2525 - accuracy: 0.5206 - val_loss: 0.9133 - val_accuracy: 0.5799\n",
            "Epoch 53/100\n",
            "231/231 [==============================] - 0s 2ms/step - loss: 1.2110 - accuracy: 0.5165 - val_loss: 0.7852 - val_accuracy: 0.5799\n",
            "Epoch 54/100\n",
            "231/231 [==============================] - 0s 2ms/step - loss: 1.2052 - accuracy: 0.5191 - val_loss: 0.8653 - val_accuracy: 0.5799\n",
            "Epoch 55/100\n",
            "231/231 [==============================] - 0s 2ms/step - loss: 1.0730 - accuracy: 0.5188 - val_loss: 1.9897 - val_accuracy: 0.5799\n",
            "Epoch 56/100\n",
            "231/231 [==============================] - 0s 2ms/step - loss: 1.2847 - accuracy: 0.5160 - val_loss: 1.5903 - val_accuracy: 0.5799\n",
            "Epoch 57/100\n",
            "231/231 [==============================] - 0s 2ms/step - loss: 1.2903 - accuracy: 0.5211 - val_loss: 0.7001 - val_accuracy: 0.5799\n",
            "Epoch 58/100\n",
            "231/231 [==============================] - 0s 2ms/step - loss: 1.0715 - accuracy: 0.5213 - val_loss: 1.4623 - val_accuracy: 0.5799\n",
            "Epoch 59/100\n",
            "231/231 [==============================] - 0s 2ms/step - loss: 1.0741 - accuracy: 0.5228 - val_loss: 1.4123 - val_accuracy: 0.5799\n",
            "Epoch 60/100\n",
            "231/231 [==============================] - 0s 2ms/step - loss: 1.2460 - accuracy: 0.5310 - val_loss: 2.7216 - val_accuracy: 0.5799\n",
            "Epoch 61/100\n",
            "231/231 [==============================] - 0s 2ms/step - loss: 1.3975 - accuracy: 0.5188 - val_loss: 1.4011 - val_accuracy: 0.5799\n",
            "Epoch 62/100\n",
            "231/231 [==============================] - 0s 2ms/step - loss: 1.4128 - accuracy: 0.5061 - val_loss: 1.4837 - val_accuracy: 0.4201\n",
            "Epoch 63/100\n",
            "231/231 [==============================] - 0s 2ms/step - loss: 1.4096 - accuracy: 0.5037 - val_loss: 0.7211 - val_accuracy: 0.5799\n",
            "Epoch 64/100\n",
            "231/231 [==============================] - 0s 2ms/step - loss: 1.4493 - accuracy: 0.5210 - val_loss: 0.7545 - val_accuracy: 0.4201\n",
            "Epoch 65/100\n",
            "231/231 [==============================] - 0s 2ms/step - loss: 1.1957 - accuracy: 0.5322 - val_loss: 1.2164 - val_accuracy: 0.4201\n",
            "Epoch 66/100\n",
            "231/231 [==============================] - 0s 2ms/step - loss: 1.6699 - accuracy: 0.5159 - val_loss: 0.7697 - val_accuracy: 0.4201\n",
            "Epoch 67/100\n",
            "231/231 [==============================] - 0s 2ms/step - loss: 1.0730 - accuracy: 0.5244 - val_loss: 0.7011 - val_accuracy: 0.5799\n",
            "Epoch 68/100\n",
            "231/231 [==============================] - 0s 2ms/step - loss: 1.2781 - accuracy: 0.5230 - val_loss: 1.2422 - val_accuracy: 0.5799\n",
            "Epoch 69/100\n",
            "231/231 [==============================] - 0s 2ms/step - loss: 1.3878 - accuracy: 0.5218 - val_loss: 1.3379 - val_accuracy: 0.5799\n",
            "Epoch 70/100\n",
            "231/231 [==============================] - 0s 2ms/step - loss: 1.7266 - accuracy: 0.5075 - val_loss: 3.2585 - val_accuracy: 0.4201\n",
            "Epoch 71/100\n",
            "231/231 [==============================] - 0s 2ms/step - loss: 1.2266 - accuracy: 0.5213 - val_loss: 0.7020 - val_accuracy: 0.5799\n",
            "Epoch 72/100\n",
            "231/231 [==============================] - 0s 2ms/step - loss: 1.5065 - accuracy: 0.5222 - val_loss: 2.5115 - val_accuracy: 0.4201\n",
            "Epoch 73/100\n",
            "231/231 [==============================] - 0s 2ms/step - loss: 1.4153 - accuracy: 0.5145 - val_loss: 1.2261 - val_accuracy: 0.4201\n",
            "Epoch 74/100\n",
            "231/231 [==============================] - 0s 2ms/step - loss: 1.4029 - accuracy: 0.5072 - val_loss: 1.3240 - val_accuracy: 0.5799\n",
            "Epoch 75/100\n",
            "231/231 [==============================] - 0s 2ms/step - loss: 1.5802 - accuracy: 0.5224 - val_loss: 1.1394 - val_accuracy: 0.4201\n",
            "Epoch 76/100\n",
            "231/231 [==============================] - 0s 2ms/step - loss: 2.0451 - accuracy: 0.5121 - val_loss: 1.8899 - val_accuracy: 0.5799\n",
            "Epoch 77/100\n",
            "231/231 [==============================] - 0s 2ms/step - loss: 1.5533 - accuracy: 0.5220 - val_loss: 2.3466 - val_accuracy: 0.5799\n",
            "Epoch 78/100\n",
            "231/231 [==============================] - 0s 2ms/step - loss: 1.9396 - accuracy: 0.5209 - val_loss: 0.9881 - val_accuracy: 0.5799\n",
            "Epoch 79/100\n",
            "231/231 [==============================] - 0s 2ms/step - loss: 1.5635 - accuracy: 0.5233 - val_loss: 0.7879 - val_accuracy: 0.5799\n",
            "Epoch 80/100\n",
            "231/231 [==============================] - 0s 2ms/step - loss: 1.9750 - accuracy: 0.5218 - val_loss: 2.2090 - val_accuracy: 0.5799\n",
            "Epoch 81/100\n",
            "231/231 [==============================] - 0s 2ms/step - loss: 1.2432 - accuracy: 0.5203 - val_loss: 4.2481 - val_accuracy: 0.4201\n",
            "Epoch 82/100\n",
            "231/231 [==============================] - 1s 2ms/step - loss: 2.4981 - accuracy: 0.5149 - val_loss: 4.7664 - val_accuracy: 0.5799\n",
            "Epoch 83/100\n",
            "231/231 [==============================] - 0s 2ms/step - loss: 2.6639 - accuracy: 0.5068 - val_loss: 1.1983 - val_accuracy: 0.4201\n",
            "Epoch 84/100\n",
            "231/231 [==============================] - 1s 3ms/step - loss: 1.7411 - accuracy: 0.5159 - val_loss: 0.9995 - val_accuracy: 0.5799\n",
            "Epoch 85/100\n",
            "231/231 [==============================] - 1s 4ms/step - loss: 2.5597 - accuracy: 0.5187 - val_loss: 3.1430 - val_accuracy: 0.5799\n",
            "Epoch 86/100\n",
            "231/231 [==============================] - 1s 2ms/step - loss: 2.5684 - accuracy: 0.5188 - val_loss: 0.7204 - val_accuracy: 0.5799\n",
            "Epoch 87/100\n",
            "231/231 [==============================] - 1s 2ms/step - loss: 1.6693 - accuracy: 0.5252 - val_loss: 0.7270 - val_accuracy: 0.4201\n",
            "Epoch 88/100\n",
            "231/231 [==============================] - 1s 2ms/step - loss: 2.6928 - accuracy: 0.5123 - val_loss: 5.9251 - val_accuracy: 0.5799\n",
            "Epoch 89/100\n",
            "231/231 [==============================] - 1s 2ms/step - loss: 1.7554 - accuracy: 0.5262 - val_loss: 2.9211 - val_accuracy: 0.5799\n",
            "Epoch 90/100\n",
            "231/231 [==============================] - 0s 2ms/step - loss: 1.9096 - accuracy: 0.5130 - val_loss: 2.7301 - val_accuracy: 0.5799\n",
            "Epoch 91/100\n",
            "231/231 [==============================] - 1s 3ms/step - loss: 2.1759 - accuracy: 0.5154 - val_loss: 2.2794 - val_accuracy: 0.5799\n",
            "Epoch 92/100\n",
            "231/231 [==============================] - 1s 3ms/step - loss: 2.0494 - accuracy: 0.5172 - val_loss: 2.8734 - val_accuracy: 0.5799\n",
            "Epoch 93/100\n",
            "231/231 [==============================] - 1s 3ms/step - loss: 2.3360 - accuracy: 0.5248 - val_loss: 1.6108 - val_accuracy: 0.4201\n",
            "Epoch 94/100\n",
            "231/231 [==============================] - 1s 3ms/step - loss: 2.4936 - accuracy: 0.5131 - val_loss: 0.8073 - val_accuracy: 0.5799\n",
            "Epoch 95/100\n",
            "231/231 [==============================] - 1s 3ms/step - loss: 2.1002 - accuracy: 0.5191 - val_loss: 1.7192 - val_accuracy: 0.4201\n",
            "Epoch 96/100\n",
            "231/231 [==============================] - 1s 3ms/step - loss: 1.7198 - accuracy: 0.5130 - val_loss: 0.7392 - val_accuracy: 0.5799\n",
            "Epoch 97/100\n",
            "231/231 [==============================] - 1s 2ms/step - loss: 2.1162 - accuracy: 0.5210 - val_loss: 0.9204 - val_accuracy: 0.5799\n",
            "Epoch 98/100\n",
            "231/231 [==============================] - 1s 3ms/step - loss: 2.5985 - accuracy: 0.5091 - val_loss: 2.2421 - val_accuracy: 0.5799\n",
            "Epoch 99/100\n",
            "231/231 [==============================] - 1s 3ms/step - loss: 1.6011 - accuracy: 0.5241 - val_loss: 0.9940 - val_accuracy: 0.4201\n",
            "Epoch 100/100\n",
            "231/231 [==============================] - 1s 3ms/step - loss: 1.9759 - accuracy: 0.5187 - val_loss: 2.4455 - val_accuracy: 0.5799\n"
          ],
          "name": "stdout"
        },
        {
          "output_type": "execute_result",
          "data": {
            "text/plain": [
              "<tensorflow.python.keras.callbacks.History at 0x7f0d8e59c748>"
            ]
          },
          "metadata": {
            "tags": []
          },
          "execution_count": 95
        }
      ]
    },
    {
      "cell_type": "markdown",
      "metadata": {
        "id": "0NU5XOeHlvh6"
      },
      "source": [
        "### Predict"
      ]
    },
    {
      "cell_type": "code",
      "metadata": {
        "id": "5OKaNzfWluTV"
      },
      "source": [
        "y_pred = ann.predict(x_test)"
      ],
      "execution_count": null,
      "outputs": []
    },
    {
      "cell_type": "code",
      "metadata": {
        "id": "_1h3-uKul4DL"
      },
      "source": [
        "print(y)"
      ],
      "execution_count": null,
      "outputs": []
    },
    {
      "cell_type": "markdown",
      "metadata": {
        "id": "7ETD8aN7Xlsp"
      },
      "source": [
        "## Confusion Matrix"
      ]
    },
    {
      "cell_type": "code",
      "metadata": {
        "id": "VAtM3HBsXn_w"
      },
      "source": [
        "from sklearn.metrics import confusion_matrix, accuracy_score\n",
        "cm = confusion_matrix(y_test, y_pred)\n",
        "print(cm)\n",
        "accuracy_score(y_test, y_pred)"
      ],
      "execution_count": null,
      "outputs": []
    }
  ]
}